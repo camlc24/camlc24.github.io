{
 "cells": [
  {
   "cell_type": "markdown",
   "id": "942894a7",
   "metadata": {},
   "source": [
    "#### SMILES input of a noncovalent isopentane--water complex, create Gaussian input files, CSEARCH with CREST"
   ]
  },
  {
   "cell_type": "markdown",
   "id": "4456a53c",
   "metadata": {},
   "source": [
    "###### Step 1: CSEARCH conformational sampling (creates SDF files)"
   ]
  },
  {
   "cell_type": "code",
   "execution_count": null,
   "id": "276cfdb0",
   "metadata": {},
   "outputs": [],
   "source": [
    "import glob                                                                                                                                                     \n",
    "from aqme.csearch import csearch\n",
    "from aqme.qprep import qprep\n",
    "\n",
    "name = 'meoh-water-complex'\n",
    "smi = 'CO.O'\n",
    "\n",
    "# run CSEARCH conformational sampling, specifying:\n",
    "# 1) SMILES string (smi=smi)\n",
    "# 2) Name for the output SDF files (name=name)\n",
    "# 3) CREST sampling (program='crest')\n",
    "# 4) Additional CREST keywords (crest_keywords='--nci')\n",
    "# 5) Include CREGEN post-analysis (cregen=True)\n",
    "# 6) Additional CREGEN keywords (cregen_keywords='--ewin 3')\n",
    "# 7) Number of processors used in CREST (nprocs=12)\n",
    "csearch(smi=smi,\n",
    "        name=name,program='crest',crest_keywords='--nci',\n",
    "        cregen=True,cregen_keywords='--ewin 3',nprocs=4)"
   ]
  },
  {
   "cell_type": "markdown",
   "id": "6c34b5f9",
   "metadata": {},
   "source": [
    "###### Step 2: Writing Gaussian input files with the sdf obtained from CSEARCH"
   ]
  },
  {
   "cell_type": "code",
   "execution_count": null,
   "id": "bf33ebf5",
   "metadata": {},
   "outputs": [],
   "source": [
    "# set SDF filenames and directory where the new com files will be created\n",
    "sdf_rdkit_files = glob.glob(f'CSEARCH/*.sdf')\n",
    "\n",
    "# run QPREP input files generator, with:\n",
    "# 1) Files to convert (files=file)\n",
    "# 2) QM program for the input (program='gaussian')\n",
    "# 3) Keyword line for the Gaussian inputs (qm_input='wb97xd/6-31+G* opt freq')\n",
    "# 4) Memory to use in the calculations (mem='24GB')\n",
    "# 5) Processors to use in the calcs (nprocs=8)\n",
    "qprep(files=sdf_rdkit_files,program='gaussian',\n",
    "        qm_input='wb97xd/6-31+G* opt freq',mem='24GB',nprocs=4)"
   ]
  },
  {
   "cell_type": "code",
   "execution_count": null,
   "id": "4959b551",
   "metadata": {},
   "outputs": [],
   "source": []
  }
 ],
 "metadata": {
  "kernelspec": {
   "display_name": "Python 3 (ipykernel)",
   "language": "python",
   "name": "python3"
  },
  "language_info": {
   "codemirror_mode": {
    "name": "ipython",
    "version": 3
   },
   "file_extension": ".py",
   "mimetype": "text/x-python",
   "name": "python",
   "nbconvert_exporter": "python",
   "pygments_lexer": "ipython3",
   "version": "3.10.14"
  },
  "vscode": {
   "interpreter": {
    "hash": "6c100345108a7047ea96fae483cb64f49bdc23a8b225db90a5987a96959e820b"
   }
  }
 },
 "nbformat": 4,
 "nbformat_minor": 5
}

{
 "cells": [
  {
   "cell_type": "markdown",
   "id": "a80f7ce4",
   "metadata": {},
   "source": [
    "#### TS including a three-component noncovalent complex from SMILES, create ORCA input files, CSEARCH with CREST"
   ]
  },
  {
   "cell_type": "markdown",
   "id": "c19299c3",
   "metadata": {},
   "source": [
    "###### Step 1: creating SMILES with predefined atom numbers and setting constrains"
   ]
  },
  {
   "cell_type": "code",
   "execution_count": null,
   "id": "0072e6de",
   "metadata": {},
   "outputs": [],
   "source": [
    "import glob\n",
    "from rdkit import Chem                                                                                                                                                         \n",
    "from aqme.csearch import csearch\n",
    "from aqme.qprep import qprep\n",
    "\n",
    "smi = 'FC.[Cl-]'\n",
    "mol = Chem.MolFromSmiles(smi)\n",
    "mol = Chem.AddHs(mol)\n",
    "for i,atom in enumerate(mol.GetAtoms()):\n",
    "    atom.SetAtomMapNum(i+3) \n",
    "# mapped SMILES to use in CSEARCH\n",
    "smi_new = Chem.MolToSmiles(mol)\n",
    "\n",
    "print(smi_new)\n",
    "mol"
   ]
  },
  {
   "cell_type": "code",
   "execution_count": null,
   "id": "dc6a9ea3",
   "metadata": {},
   "outputs": [],
   "source": [
    "# based on the atom numbers above, I choose the constraints for my TS:\n",
    "# 1) Bond between atoms 4 and 5 with a distance of 1.8 A\n",
    "# 2) Bond between atoms 5 and 9 with a distance of 1.8 A\n",
    "constraints_dist = [[3,4,1.8],[4,5,1.8]]\n",
    "\n",
    "# 3) Angle between atoms 4, 5 and 9 of 180 degrees\n",
    "constraints_angle = [[3,4,5,180]]"
   ]
  },
  {
   "cell_type": "markdown",
   "id": "df1b211c",
   "metadata": {},
   "source": [
    "###### Step 2: doing CSEARCH"
   ]
  },
  {
   "cell_type": "code",
   "execution_count": null,
   "id": "297073a2",
   "metadata": {},
   "outputs": [],
   "source": [
    "# run CSEARCH conformational sampling, specifying:\n",
    "# 1) Mapped SMILES string (smi=smi_new)\n",
    "# 2) CREST sampling (program='crest')\n",
    "# 3) Include CREGEN post-analysis (cregen=True)\n",
    "# 4) Define distance constraints (constraints_dist=constraints_dist)\n",
    "# 5) Define angle constraints (constraints_angle=constraints_angle)\n",
    "# 6) Add water solvation in CREST (crest_keywords=\"--alpb h2o\")\n",
    "# 7) Add water solvation in the xTB pre-optimization (xtb_keywords=\"--alpb h2o\")\n",
    "# 7) Number of processors used in CREST (nprocs=12)\n",
    "csearch(smi=smi_new,name='TS-example',program='crest',cregen=True,\n",
    "        constraints_dist=constraints_dist,constraints_angle=constraints_angle,\n",
    "        crest_keywords=\"--alpb h2o\",xtb_keywords=\"--alpb h2o\",nprocs=4)"
   ]
  },
  {
   "cell_type": "markdown",
   "id": "b2cfc4c0",
   "metadata": {},
   "source": [
    "###### Step 3: Writing Gaussian input files with the SDF files obtained from CSEARCH"
   ]
  },
  {
   "cell_type": "code",
   "execution_count": null,
   "id": "731dec89",
   "metadata": {},
   "outputs": [],
   "source": [
    "# set SDF filenames and directory where the new com files will be created\n",
    "sdf_rdkit_files = glob.glob(f'CSEARCH/*.sdf')\n",
    "\n",
    "# run QPREP input files generator, with:\n",
    "# 1) Files to convert (files=sdf_rdkit_files)\n",
    "# 2) QM program for the input (program='gaussian')\n",
    "# 3) Keyword line for the Gaussian inputs (qm_input='wb97xd/6-31+G* opt=(calcfc,ts,noeigen) freq')\n",
    "# 4) Memory to use in the calculations (mem='24GB')\n",
    "# 5) Processors to use in the calcs (nprocs=8)\n",
    "qprep(files=sdf_rdkit_files,program='gaussian',\n",
    "        qm_input='wb97xd/6-31+G* opt=(calcfc,ts,noeigen) freq',mem='8GB',nprocs=4)"
   ]
  },
  {
   "cell_type": "code",
   "execution_count": null,
   "id": "33129835",
   "metadata": {},
   "outputs": [],
   "source": []
  }
 ],
 "metadata": {
  "kernelspec": {
   "display_name": "Python 3 (ipykernel)",
   "language": "python",
   "name": "python3"
  },
  "language_info": {
   "codemirror_mode": {
    "name": "ipython",
    "version": 3
   },
   "file_extension": ".py",
   "mimetype": "text/x-python",
   "name": "python",
   "nbconvert_exporter": "python",
   "pygments_lexer": "ipython3",
   "version": "3.10.14"
  },
  "vscode": {
   "interpreter": {
    "hash": "6fd74c72106078714e0fce224080d73d80ec6931ebd33b284a64c665ffc716e5"
   }
  }
 },
 "nbformat": 4,
 "nbformat_minor": 5
}

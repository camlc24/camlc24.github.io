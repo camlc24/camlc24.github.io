{
 "cells": [
  {
   "cell_type": "markdown",
   "id": "d9387035",
   "metadata": {},
   "source": [
    "#### Organic molecule with SMILES input, CSEARCH performs conformational sampling with RDKit, QPREP creates Gaussian input files"
   ]
  },
  {
   "cell_type": "markdown",
   "id": "9c9b2945",
   "metadata": {},
   "source": [
    "###### Step 1: CSEARCH conformational sampling (creates SDF files)"
   ]
  },
  {
   "cell_type": "code",
   "execution_count": null,
   "id": "d6e48df7",
   "metadata": {},
   "outputs": [],
   "source": [
    "import os, glob\n",
    "from pathlib import Path\n",
    "from aqme.csearch import csearch\n",
    "from aqme.qprep import qprep\n",
    "\n",
    "# set working directory, SDF creation folder, name and SMILES string\n",
    "name = 'quinine'\n",
    "smi = 'COC1=CC2=C(C=CN=C2C=C1)[C@H]([C@@H]3C[C@@H]4CCN3C[C@@H]4C=C)O'\n",
    "w_dir_main = Path(os.getcwd())\n",
    "sdf_path = w_dir_main.joinpath(name)\n",
    "\n",
    "# run CSEARCH conformational sampling, specifying:\n",
    "# 1) PATH to create the new SDF files (destination=sdf_path)\n",
    "# 2) RDKit sampling (program='rdkit')\n",
    "# 3) SMILES string (smi=smi)\n",
    "# 4) Name for the output SDF files (name=name)\n",
    "csearch(destination=sdf_path,program='rdkit',smi=smi,name=name)"
   ]
  },
  {
   "cell_type": "markdown",
   "id": "0c35939d",
   "metadata": {},
   "source": [
    "###### Step 2: Writing Gaussian input files with the SDF obtained from CSEARCH"
   ]
  },
  {
   "cell_type": "code",
   "execution_count": null,
   "id": "abd54ca0",
   "metadata": {},
   "outputs": [],
   "source": [
    "# set SDF filenames and directory where the new com files will be created\n",
    "com_path = sdf_path.joinpath(f'com_files')\n",
    "sdf_rdkit_files = glob.glob(f'{sdf_path}/*.sdf')\n",
    "\n",
    "# run QPREP input files generator, with:\n",
    "# 1) PATH to create the new SDF files (destination=com_path)\n",
    "# 2) Files to convert (files=sdf_rdkit_files)\n",
    "# 3) QM program for the input (program='gaussian')\n",
    "# 4) Keyword line for the Gaussian inputs (qm_input='wb97xd/6-31+G* opt freq')\n",
    "# 5) Memory to use in the calculations (mem='24GB')\n",
    "# 6) Processors to use in the calcs (nprocs=8)\n",
    "qprep(destination=com_path,files=sdf_rdkit_files,program='gaussian',\n",
    "        qm_input='wb97xd/6-31+G* opt freq',mem='24GB',nprocs=8)\n",
    " "
   ]
  },
  {
   "cell_type": "markdown",
   "id": "80c7dacb",
   "metadata": {},
   "source": [
    "###### Bonus 1: using ORCA instead of Gaussian in QPREP"
   ]
  },
  {
   "cell_type": "code",
   "execution_count": null,
   "id": "2c254233",
   "metadata": {},
   "outputs": [],
   "source": [
    "# Only need to change the qm_input and program options.\n",
    "# Multiple lines are allowed. For example, this is the input file of a TS calculation:\n",
    "ORCA_input = 'BP86 def2-SVP def2/J\\n'\n",
    "ORCA_input += '%geom\\n'\n",
    "ORCA_input += 'Calc_Hess true\\n'\n",
    "ORCA_input += 'Recalc_Hess 5\\n'\n",
    "ORCA_input += 'end'\n",
    "\n",
    "qprep(destination=com_path,files=sdf_rdkit_files,program='orca',\n",
    "        qm_input=ORCA_input,mem='4GB',nprocs=8)"
   ]
  },
  {
   "cell_type": "markdown",
   "id": "db437f7e",
   "metadata": {},
   "source": [
    "###### Bonus 2: using a CSV with many SMILES"
   ]
  },
  {
   "cell_type": "code",
   "execution_count": null,
   "id": "fb4aefa4",
   "metadata": {},
   "outputs": [],
   "source": [
    "import os, glob\n",
    "from pathlib import Path\n",
    "from aqme.csearch import csearch\n",
    "from aqme.qprep import qprep\n",
    "\n",
    "# Ideal for ML or big data projects, only need to replace smi and name with CSV input\n",
    "csv_input = 'ML_test.csv'\n",
    "sdf_folder = 'ML_test'\n",
    "w_dir_main = Path(os.getcwd())\n",
    "sdf_path = w_dir_main.joinpath(sdf_folder)\n",
    "\n",
    "# create conformers for all the entries in the CSV\n",
    "csearch(destination=sdf_path,program='rdkit',input=csv_input)\n",
    "\n",
    "# set SDF filenames and directory where the new com files will be created\n",
    "com_path = sdf_path.joinpath(f'com_files')\n",
    "sdf_rdkit_files = glob.glob(f'{sdf_path}/*.sdf')\n",
    "\n",
    "# create COM files\n",
    "qprep(destination=com_path,files=sdf_rdkit_files,program='gaussian',\n",
    "        qm_input='wb97xd/6-31+G* opt freq',mem='24GB',nprocs=8)"
   ]
  }
 ],
 "metadata": {
  "interpreter": {
   "hash": "8aa3fe90e464923406f5eccc2b73c2c346150d55ceabc9491937b00a06e4c2ce"
  },
  "kernelspec": {
   "display_name": "Python 3 (ipykernel)",
   "language": "python",
   "name": "python3"
  },
  "language_info": {
   "codemirror_mode": {
    "name": "ipython",
    "version": 3
   },
   "file_extension": ".py",
   "mimetype": "text/x-python",
   "name": "python",
   "nbconvert_exporter": "python",
   "pygments_lexer": "ipython3",
   "version": "3.10.14"
  }
 },
 "nbformat": 4,
 "nbformat_minor": 5
}

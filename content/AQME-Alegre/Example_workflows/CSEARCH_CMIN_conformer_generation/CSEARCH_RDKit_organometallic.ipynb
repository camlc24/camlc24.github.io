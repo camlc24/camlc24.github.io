{
 "cells": [
  {
   "cell_type": "markdown",
   "id": "31de2d81",
   "metadata": {},
   "source": [
    "#### Metal complex with SMILES input, CSEARCH performs conformational sampling with RDKit, QPREP creates Gaussian input files with genECP"
   ]
  },
  {
   "cell_type": "markdown",
   "id": "580bbbe1",
   "metadata": {},
   "source": [
    "###### Step 1: CSEARCH conformational sampling (creates SDF files)"
   ]
  },
  {
   "cell_type": "code",
   "execution_count": null,
   "id": "be89fa14",
   "metadata": {},
   "outputs": [],
   "source": [
    "import os, glob\n",
    "from pathlib import Path                                                                                                                                                          \n",
    "from aqme.csearch import csearch\n",
    "from aqme.qprep import qprep\n",
    "\n",
    "# set working directory and SMILES string\n",
    "w_dir_main = Path(os.getcwd())\n",
    "sdf_path = w_dir_main.joinpath('Pd_sdf_files')\n",
    "smi_metal = 'I[Pd]([PH3+])(F)Cl'\n",
    "\n",
    "# run CSEARCH conformational sampling, specifying:\n",
    "# 1) PATH to create the new SDF files (destination=sdf_path)\n",
    "# 2) Simple RDKit sampling (program='rdkit')\n",
    "# 3) SMILES string (smi=smi_metal)\n",
    "# 4) Name for the output SDF files (name='Pd_complex')\n",
    "# 5) Charge is -1 (charge=-1)\n",
    "# 6) Multiplicity is 1 (mult=1)\n",
    "# 7) The complex is squareplanar (complex_type='squareplanar')\n",
    "csearch(destination=sdf_path,program='rdkit',smi=smi_metal,name='Pd_complex',\n",
    "        charge=-1,mult=1,complex_type='squareplanar')"
   ]
  },
  {
   "cell_type": "markdown",
   "id": "29f8b995",
   "metadata": {},
   "source": [
    "###### Step 2: Writing Gaussian input files with the SDF obtained from CSEARCH"
   ]
  },
  {
   "cell_type": "code",
   "execution_count": null,
   "id": "b53e7b0e",
   "metadata": {},
   "outputs": [],
   "source": [
    "# set SDF filenames and directory where the new com files will be created\n",
    "com_path = sdf_path.joinpath(f'com_files')\n",
    "sdf_rdkit_files = glob.glob(f'{sdf_path}/*.sdf')\n",
    "\n",
    "# run QPREP input files generator, with:\n",
    "# 1) PATH to create the new SDF files (destination=com_path)\n",
    "# 2) Files to convert (files=sdf_rdkit_files)\n",
    "# 3) QM program for the input (program='gaussian')\n",
    "# 4) Keyword line for the Gaussian inputs (qm_input='B3LYP/genecp opt freq')\n",
    "# 5) Basis set to use in the atoms included in genECP (bs_gen='def2svp')\n",
    "# 6) Basis set to use in the rest of the atoms (bs='6-31G*')\n",
    "# 7) Atoms to include as genECP (gen_atoms=['Pd'])\n",
    "# 8) Memory to use in the calculations (mem='24GB')\n",
    "# 9) Processors to use in the calcs (nprocs=8)\n",
    "qprep(destination=com_path,files=sdf_rdkit_files,program='gaussian',qm_input='B3LYP/genecp opt freq',\n",
    "        bs_gen='def2svp',bs_nogen='6-31G*',gen_atoms=['Pd'],mem='24GB',nprocs=8)\n",
    " "
   ]
  }
 ],
 "metadata": {
  "kernelspec": {
   "display_name": "Python 3 (ipykernel)",
   "language": "python",
   "name": "python3"
  },
  "language_info": {
   "codemirror_mode": {
    "name": "ipython",
    "version": 3
   },
   "file_extension": ".py",
   "mimetype": "text/x-python",
   "name": "python",
   "nbconvert_exporter": "python",
   "pygments_lexer": "ipython3",
   "version": "3.10.14"
  },
  "vscode": {
   "interpreter": {
    "hash": "6fd74c72106078714e0fce224080d73d80ec6931ebd33b284a64c665ffc716e5"
   }
  }
 },
 "nbformat": 4,
 "nbformat_minor": 5
}

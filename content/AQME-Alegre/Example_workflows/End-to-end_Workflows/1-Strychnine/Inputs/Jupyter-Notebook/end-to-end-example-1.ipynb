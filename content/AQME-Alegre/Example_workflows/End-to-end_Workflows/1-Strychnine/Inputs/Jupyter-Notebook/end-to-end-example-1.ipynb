{
 "cells": [
  {
   "cell_type": "markdown",
   "metadata": {},
   "source": [
    "# Example 1"
   ]
  },
  {
   "cell_type": "markdown",
   "metadata": {},
   "source": [
    "### End-to-end workflow to calculate conformer proportions and NMR spectra of strychnine with AQME from a SMILES string"
   ]
  },
  {
   "cell_type": "markdown",
   "metadata": {},
   "source": [
    "This workflow includes:\n",
    "\n",
    "i) RDKit conformer sampling \\\n",
    "ii) Gaussian geometry optimization (B3LYP/6-31+G(d,p)) \\\n",
    "iii) Fixing errors and imaginary frequencies of the output files \\\n",
    "iv) Calculation and analysis of NMR chemical shifts for the conformers generated \\\n",
    "v) GoodVibes calculation of Boltzmann distributions using Gibbs free energies at 298.15 K"
   ]
  },
  {
   "cell_type": "markdown",
   "metadata": {},
   "source": [
    "#### Steps involved in this example"
   ]
  },
  {
   "cell_type": "markdown",
   "metadata": {},
   "source": [
    "- Step 1: Importing AQME and other python modules\n",
    "- Step 2: CSEARCH conformational sampling\n",
    "- Step 3: Creating Gaussian input files for optimization and frequency with QPREP\n",
    "- Step 4: Running Gaussian inputs for optimization and frequency calcs externally\n",
    "- Step 5: QCORR analysis including isomerization filter\n",
    "- Step 6: Resubmission of unsuccessful calculations (if any) with suggestions from AQME\n",
    "- Step 7: Creating Gaussian input files for NMR calcs with QPREP\n",
    "- Step 8: Running Gaussian NMR calcs\n",
    "- Step 9: Obtaining Boltzmann weighted NMR shifts with QDESCP\n",
    "- Step 10: Calculating conformer populations with GoodVibes"
   ]
  },
  {
   "cell_type": "markdown",
   "metadata": {},
   "source": [
    "###  Step 1: Importing AQME and other python modules"
   ]
  },
  {
   "cell_type": "code",
   "execution_count": 2,
   "metadata": {},
   "outputs": [],
   "source": [
    "import os, subprocess,shutil, glob\n",
    "from pathlib import Path \n",
    "from aqme.csearch import csearch\n",
    "from aqme.qprep import qprep\n",
    "from aqme.qcorr import qcorr\n",
    "from aqme.qdescp import qdescp"
   ]
  },
  {
   "cell_type": "markdown",
   "metadata": {},
   "source": [
    "### Step 2: CSEARCH conformational sampling"
   ]
  },
  {
   "cell_type": "code",
   "execution_count": null,
   "metadata": {},
   "outputs": [],
   "source": [
    "name = 'Strychnine'\n",
    "smi = 'C1CN2CC3=CCO[C@H]4CC(=O)N5[C@H]6[C@H]4[C@H]3C[C@H]2[C@@]61C7=CC=CC=C75'\n",
    "program = 'rdkit'\n",
    "\n",
    "sdf_path = f'{os.getcwd()}/{name}_sdf_files' # folder where the SDF files are generated\n",
    "\n",
    "csearch(destination=sdf_path,program=program,smi=smi,name=name)"
   ]
  },
  {
   "cell_type": "markdown",
   "metadata": {},
   "source": [
    "### Step 3: Creating Gaussian input files for optimization and frequency with QPREP"
   ]
  },
  {
   "cell_type": "code",
   "execution_count": null,
   "metadata": {},
   "outputs": [],
   "source": [
    "program = 'gaussian'\n",
    "qm_input = 'B3LYP/6-31+G(d,p) opt freq'\n",
    "mem='24GB'\n",
    "nprocs=12\n",
    "\n",
    "sdf_rdkit_files = f'{sdf_path}/*.sdf' # SDF files from Step 2\n",
    "com_path = f'{os.getcwd()}/{name}_com_files' # folder where the COM files are generated\n",
    "\n",
    "qprep(destination=com_path,files=sdf_rdkit_files,program=program,\n",
    "        qm_input=qm_input,mem=mem,nprocs=nprocs)"
   ]
  },
  {
   "cell_type": "markdown",
   "metadata": {},
   "source": [
    "### Step 4: Running Gaussian inputs for optimization and frequency calcs externally"
   ]
  },
  {
   "cell_type": "code",
   "execution_count": null,
   "metadata": {},
   "outputs": [],
   "source": [
    "# Run the generated COM files (in com_path, see PATH in Step 3) with Gaussian"
   ]
  },
  {
   "cell_type": "markdown",
   "metadata": {},
   "source": [
    "### Step 5: QCORR analysis including isomerization filter"
   ]
  },
  {
   "cell_type": "code",
   "execution_count": null,
   "metadata": {},
   "outputs": [],
   "source": [
    "log_files=f'{com_path}/*.log' # LOG files from Step 4\n",
    "\n",
    "qcorr(files=log_files,freq_conv='opt=(calcfc,maxstep=5)',isom_type='com',isom_inputs=com_path,nprocs=12,mem='24GB')"
   ]
  },
  {
   "attachments": {},
   "cell_type": "markdown",
   "metadata": {},
   "source": [
    "### Step 6: Resubmission of unsuccessful calculations (if any) with suggestions from AQME"
   ]
  },
  {
   "cell_type": "code",
   "execution_count": null,
   "metadata": {},
   "outputs": [],
   "source": [
    "# Run the generated COM files (in fixed_QM_inputs, shown as resub_path in Step 7) with Gaussian"
   ]
  },
  {
   "attachments": {},
   "cell_type": "markdown",
   "id": "c9820843",
   "metadata": {},
   "source": [
    "### Step 7: QCORR analysis of unsuccessful calculations (if any) from Step 6"
   ]
  },
  {
   "cell_type": "code",
   "execution_count": null,
   "id": "f40487ac",
   "metadata": {},
   "outputs": [],
   "source": [
    "resub_path = f'{com_path}/failed/run_1/fixed_QM_inputs' # LOG files from Step 6\n",
    "log_files_resub = f'{resub_path}/*.log'\n",
    "\n",
    "# this QCORR analysis skips the freq_conv since we noticed that thermochemistry data barely change after one freq_conv correction\n",
    "# if there are no files that failed, you will see a PATH error\n",
    "qcorr(files=log_files_resub,isom_type='com',isom_inputs=com_path,nprocs=12,mem='24GB')"
   ]
  },
  {
   "attachments": {},
   "cell_type": "markdown",
   "metadata": {},
   "source": [
    "### Step 8: Creating Gaussian input files for NMR calcs with QPREP"
   ]
  },
  {
   "cell_type": "code",
   "execution_count": null,
   "metadata": {},
   "outputs": [],
   "source": [
    "program = 'gaussian'\n",
    "qm_input = 'B3LYP/6-311+G(2d,p) scrf=(solvent=chloroform,smd) nmr=giao'\n",
    "mem='24GB'\n",
    "nprocs=12\n",
    "\n",
    "success_folder = com_path+'/success' # folder where the successful LOG files are stored during the QCORR cycles (Steps 5 and 6)\n",
    "log_files = f'{success_folder}/*.log'\n",
    "sp_path = f'{os.getcwd()}/{name}_sp_files' # folder to store the new COM inputs for single point NMR calcs\n",
    "\n",
    "qprep(w_dir_main=success_folder,destination=sp_path,files=log_files,program=program,qm_input=qm_input,mem=mem,nprocs=nprocs,suffix='SP',nprocs=12,mem='24GB')"
   ]
  },
  {
   "attachments": {},
   "cell_type": "markdown",
   "metadata": {},
   "source": [
    "### Step 9: Running Gaussian NMR calcs"
   ]
  },
  {
   "cell_type": "code",
   "execution_count": null,
   "metadata": {},
   "outputs": [],
   "source": [
    "# Run the generated COM files (in sp_path, see PATH in Step 7) with Gaussian"
   ]
  },
  {
   "attachments": {},
   "cell_type": "markdown",
   "metadata": {},
   "source": [
    "### Step 10: Obtaining Boltzmann weighted NMR shifts with QDESCP"
   ]
  },
  {
   "cell_type": "code",
   "execution_count": null,
   "metadata": {},
   "outputs": [],
   "source": [
    "# Create JSON files with QCORR to store the information from the resulting LOG files\n",
    "log_files=f'{sp_path}/*.log'\n",
    "qcorr(files=log_files)\n",
    "\n",
    "# Analyze the JSON files to calculate the Boltzmann averaged shielding tensors\n",
    "json_folder = sp_path+'/success/SP_calcs/json_files' # folder where the JSON files were just created with QCORR\n",
    "json_files=f'{json_folder}/*.json'\n",
    "nmr_path = f'{os.getcwd()}/{name}_nmr_files' # folder to store the results from QDESCP\n",
    "\n",
    "qdescp(program='nmr',boltz=True,files=json_files,destination=nmr_path,nmr_slope=[-1.0537, -1.0784],nmr_intercept=[181.7815,31.8723], nmr_experim='Experimental_NMR_shifts.csv')"
   ]
  },
  {
   "attachments": {},
   "cell_type": "markdown",
   "metadata": {},
   "source": [
    "### Step 11: Calculating conformer populations with GoodVibes"
   ]
  },
  {
   "cell_type": "code",
   "execution_count": null,
   "metadata": {},
   "outputs": [],
   "source": [
    "log_files = glob.glob(f'{success_folder}/*.log')\n",
    "log_files += glob.glob(f'{sp_path}/success/SP_calcs/*.log')\n",
    "\n",
    "w_dir_main  = Path(os.getcwd())\n",
    "GV_folder = w_dir_main.joinpath('Strychine_GoodVibes-analysis')\n",
    "GV_folder.mkdir(exist_ok=True, parents=True)\n",
    "\n",
    "for file in log_files:\n",
    "\tshutil.copy(file, GV_folder)\n",
    "\n",
    "# run GoodVibes\n",
    "os.chdir(GV_folder)\n",
    "subprocess.run(['python', '-m', 'goodvibes', '--xyz', '-c', '1', '*.log','--boltz', '--spc', 'SP'])\n",
    "os.chdir(w_dir_main)\n"
   ]
  },
  {
   "cell_type": "code",
   "execution_count": null,
   "metadata": {},
   "outputs": [],
   "source": []
  }
 ],
 "metadata": {
  "kernelspec": {
   "display_name": "Python 3.9.12 ('cheminf')",
   "language": "python",
   "name": "python3"
  },
  "language_info": {
   "codemirror_mode": {
    "name": "ipython",
    "version": 3
   },
   "file_extension": ".py",
   "mimetype": "text/x-python",
   "name": "python",
   "nbconvert_exporter": "python",
   "pygments_lexer": "ipython3",
   "version": "3.9.12"
  },
  "vscode": {
   "interpreter": {
    "hash": "6fd74c72106078714e0fce224080d73d80ec6931ebd33b284a64c665ffc716e5"
   }
  }
 },
 "nbformat": 4,
 "nbformat_minor": 5
}

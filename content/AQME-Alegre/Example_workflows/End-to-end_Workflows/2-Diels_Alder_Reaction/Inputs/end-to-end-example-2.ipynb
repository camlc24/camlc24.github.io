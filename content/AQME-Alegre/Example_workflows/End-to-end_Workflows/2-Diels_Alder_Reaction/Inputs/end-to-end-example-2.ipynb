{
 "cells": [
  {
   "cell_type": "markdown",
   "metadata": {},
   "source": [
    "# Example 2\n"
   ]
  },
  {
   "cell_type": "markdown",
   "metadata": {},
   "source": [
    "### Identifying the reaction energy profile of multiple Diels-Alder reaction"
   ]
  },
  {
   "attachments": {},
   "cell_type": "markdown",
   "metadata": {},
   "source": [
    "This workflow includes:\n",
    "\n",
    "i) CREST conformer sampling \\\n",
    "ii) Gaussian geometry optimizations and frequency calcs (B3LYP/def2TZVP) \\\n",
    "iii) Dixing errors and imaginary frequencies of the output LOG files \\\n",
    "iv) ORCA single-point energy corrections (SPC) using DLPNO-CCSD(T)/def2TZVPP\\\n",
    "v) Boltzmann weighted thermochemistry calculation with GoodVibes at 298.15 K"
   ]
  },
  {
   "cell_type": "markdown",
   "metadata": {},
   "source": [
    "#### Steps involved in this example"
   ]
  },
  {
   "cell_type": "markdown",
   "metadata": {},
   "source": [
    "- Step 1: Importing AQME and other python modules\n",
    "- Step 2: Determining distance and angle constraints for TSs\n",
    "- Step 3: CSEARCH conformational sampling\n",
    "- Step 4: Creating Gaussian input files for optimization and frequency with QPREP\n",
    "- Step 5: Running Gaussian inputs for optimization and frequency calcs externally\n",
    "- Step 6: QCORR analysis\n",
    "- Step 7: Resubmission of the new jobs (if any)\n",
    "- Step 8: Creating DLPNO input files for ORCA single-point energy calculations\n",
    "- Step 9: Running ORCA inputs for single point energy calcs externally\n",
    "- Step 10: Calculating PES with goodvibes"
   ]
  },
  {
   "cell_type": "markdown",
   "metadata": {},
   "source": [
    "###  Step 1: Importing AQME and other python modules"
   ]
  },
  {
   "cell_type": "code",
   "execution_count": null,
   "metadata": {},
   "outputs": [],
   "source": [
    "import os, glob, subprocess\n",
    "import shutil\n",
    "from pathlib import Path\n",
    "from aqme.csearch import csearch\n",
    "from aqme.qprep import qprep\n",
    "from aqme.qcorr import qcorr\n",
    "from rdkit import Chem\n",
    "import pandas as pd"
   ]
  },
  {
   "cell_type": "markdown",
   "metadata": {},
   "source": [
    "### Step 2: Determining distance and angle constraints for TSs"
   ]
  },
  {
   "cell_type": "code",
   "execution_count": null,
   "metadata": {},
   "outputs": [],
   "source": [
    "smi1 = 'C1=CC=CC1.C1=CC1'\n",
    "mol1 = Chem.MolFromSmiles(smi1)\n",
    "mol1 = Chem.AddHs(mol1)\n",
    "for i,atom in enumerate(mol1.GetAtoms()):\n",
    "    atom.SetAtomMapNum(i)\n",
    "smi_new1 = Chem.MolToSmiles(mol1)\n",
    "print('The new mapped smiles for checking numbers used in constraints is:', smi_new1)\n",
    "\n",
    "mol1\n",
    "# distance and angle constraints to include in the CSV file are:\n",
    "# constraits_dist = [[3,5,2.35],[0,6,2.35]]"
   ]
  },
  {
   "cell_type": "code",
   "execution_count": null,
   "metadata": {},
   "outputs": [],
   "source": [
    "smi1 = 'C1=CC=CC1.C1=CCC1'\n",
    "mol1 = Chem.MolFromSmiles(smi1)\n",
    "mol1 = Chem.AddHs(mol1)\n",
    "for i,atom in enumerate(mol1.GetAtoms()):\n",
    "    atom.SetAtomMapNum(i)\n",
    "smi_new1 = Chem.MolToSmiles(mol1)\n",
    "print('The new mapped smiles for checking numbers used in constraints is:', smi_new1)\n",
    "\n",
    "mol1\n",
    "# distance and angle constraints to include in the CSV file are:\n",
    "# constraits_dist = [[3,6,2.35],[0,5,2.35]]\n",
    "# this case is a bit special, since a four-membered ring TS is formed, and if numbers 5 and 6\n",
    "# are exchanged, the TS won't be found (i.e. with [[3,5,2.35],[0,6,2.35]])"
   ]
  },
  {
   "cell_type": "code",
   "execution_count": null,
   "metadata": {},
   "outputs": [],
   "source": [
    "smi1 = 'C1=CC=CC1.C1=CCCC1'\n",
    "mol1 = Chem.MolFromSmiles(smi1)\n",
    "mol1 = Chem.AddHs(mol1)\n",
    "for i,atom in enumerate(mol1.GetAtoms()):\n",
    "    atom.SetAtomMapNum(i)\n",
    "smi_new1 = Chem.MolToSmiles(mol1)\n",
    "print('The new mapped smiles for checking numbers used in constraints is:', smi_new1)\n",
    "\n",
    "mol1\n",
    "# distance and angle constraints to include in the CSV file are:\n",
    "# constraits_dist = [[3,5,2.35],[0,6,2.35]]"
   ]
  },
  {
   "cell_type": "markdown",
   "metadata": {},
   "source": [
    "### Step 3: CSEARCH conformational sampling"
   ]
  },
  {
   "cell_type": "code",
   "execution_count": null,
   "metadata": {},
   "outputs": [],
   "source": [
    "data = pd.read_csv('example2.csv') # read the CSV file with SMILES strings and constraints for TSs (from Step 2)\n",
    "\n",
    "csearch(input='example2.csv',program='crest',cregen=True,\n",
    "        cregen_keywords='--ethr 0.1 --rthr 0.2 --bthr 0.3 --ewin 1')"
   ]
  },
  {
   "cell_type": "markdown",
   "metadata": {},
   "source": [
    "### Step 4: Creating Gaussian input files for optimization and frequency with QPREP"
   ]
  },
  {
   "cell_type": "code",
   "execution_count": null,
   "metadata": {},
   "outputs": [],
   "source": [
    "program = 'gaussian'\n",
    "mem='32GB'\n",
    "nprocs=16\n",
    "\n",
    "# COM files for the TSs\n",
    "sdf_TS_files = glob.glob('CSEARCH/TS*crest.sdf')\n",
    "qm_input_TS = 'B3LYP/def2tzvp opt=(ts,calcfc,noeigen,maxstep=5) freq=noraman'\n",
    "qprep(files=sdf_TS_files,program=program,qm_input=qm_input_TS,mem=mem,nprocs=nprocs)\n",
    "\n",
    "# COM files for intermediates, reagents and products\n",
    "sdf_INT_files = glob.glob('CSEARCH/D*.sdf') + glob.glob('CSEARCH/P*.sdf')\n",
    "qm_input_INT = 'B3LYP/def2tzvp opt freq=noraman'\n",
    "\n",
    "qprep(files=sdf_INT_files,program=program,qm_input=qm_input_INT,mem=mem,nprocs=nprocs)"
   ]
  },
  {
   "cell_type": "markdown",
   "metadata": {},
   "source": [
    "### Step 5: Running Gaussian inputs for optimization and frequency calcs externally"
   ]
  },
  {
   "cell_type": "code",
   "execution_count": null,
   "metadata": {},
   "outputs": [],
   "source": [
    "# Run the generated COM files (in the QCALC folder) with Gaussian"
   ]
  },
  {
   "cell_type": "markdown",
   "metadata": {},
   "source": [
    "### Step 6: QCORR analysis"
   ]
  },
  {
   "cell_type": "code",
   "execution_count": null,
   "metadata": {},
   "outputs": [],
   "source": [
    "qcorr(files='QCALC/*.log',freq_conv='opt=(calcfc,maxstep=5)',mem=mem,nprocs=nprocs)"
   ]
  },
  {
   "cell_type": "markdown",
   "metadata": {},
   "source": [
    "### Step 7: Resubmission of unsuccessful calculations (if any) with suggestions from AQME"
   ]
  },
  {
   "cell_type": "code",
   "execution_count": null,
   "metadata": {},
   "outputs": [],
   "source": [
    "# Run the generated COM files (in fixed_QM_inputs, shown as resub_path in Step 8) with Gaussian"
   ]
  },
  {
   "attachments": {},
   "cell_type": "markdown",
   "id": "e2ee4f1e",
   "metadata": {},
   "source": [
    "### Step 8: QCORR analysis of unsuccessful calculations (if any) from Step 7"
   ]
  },
  {
   "cell_type": "code",
   "execution_count": null,
   "id": "fa1be1ee",
   "metadata": {},
   "outputs": [],
   "source": [
    "resub_path = 'QCALC/failed/run_1/fixed_QM_inputs' # LOG files from Step 6\n",
    "log_files_resub = f'{resub_path}/*.log'\n",
    "\n",
    "# this QCORR analysis skips the freq_conv since we noticed that thermochemistry data barely change after one freq_conv correction\n",
    "# if there are no files that failed, you will see a PATH error\n",
    "qcorr(files=log_files_resub,isom_type='com',isom_inputs=resub_path,nprocs=12,mem='24GB')"
   ]
  },
  {
   "attachments": {},
   "cell_type": "markdown",
   "metadata": {},
   "source": [
    "### Step 9: Creating DLPNO input files for ORCA single-point energy calculations"
   ]
  },
  {
   "cell_type": "code",
   "execution_count": null,
   "metadata": {},
   "outputs": [],
   "source": [
    "program = 'orca'\n",
    "mem='16GB'\n",
    "nprocs=8\n",
    "\n",
    "qm_files = os.getcwd()+'/QCALC/success/*.log' # LOG files from Steps 6 and 8\n",
    "destination =  os.getcwd()+'/SP' # folder where the ORCA output files are generated\n",
    "\n",
    "# keyword lines for ORCA inputs\n",
    "qm_input ='DLPNO-CCSD(T) def2-tzvpp def2-tzvpp/C\\n'\n",
    "qm_input += '%scf maxiter 500\\n'\n",
    "qm_input += 'end\\n'\n",
    "qm_input += '% mdci\\n'\n",
    "qm_input += 'Density None\\n'\n",
    "qm_input += 'end\\n'\n",
    "qm_input += '% elprop\\n'\n",
    "qm_input += 'Dipole False\\n'\n",
    "qm_input += 'end'\n",
    "\n",
    "qprep(destination=destination,files=qm_files,program=program, qm_input=qm_input,mem=mem,nprocs=nprocs, suffix='DLPNO')"
   ]
  },
  {
   "attachments": {},
   "cell_type": "markdown",
   "metadata": {},
   "source": [
    "### Step 10: Running ORCA inputs for single point energy calcs externally"
   ]
  },
  {
   "cell_type": "code",
   "execution_count": null,
   "metadata": {},
   "outputs": [],
   "source": [
    "# Run the generated COM files (in destination, see PATH in Step 9) with ORCA"
   ]
  },
  {
   "attachments": {},
   "cell_type": "markdown",
   "metadata": {},
   "source": [
    "### Step 11: Calculating PES with goodvibes"
   ]
  },
  {
   "cell_type": "code",
   "execution_count": null,
   "metadata": {},
   "outputs": [],
   "source": [
    "orca_files = os.getcwd()+'/SP/*.out' # folder where the OUT files from Step 10 are generated\n",
    "\n",
    "# copy all the Gaussian LOG files and the ORCA OUT files into a new folder called GoodVibes_analysis (necessary to apply SPC corrections)\n",
    "opt_files = glob.glob(qm_files)\n",
    "spc_files = glob.glob(orca_files)\n",
    "all_files = opt_files + spc_files\n",
    "\n",
    "w_dir_main  = Path(os.getcwd())\n",
    "GV_folder = w_dir_main.joinpath('GoodVibes_analysis')\n",
    "GV_folder.mkdir(exist_ok=True, parents=True)\n",
    "\n",
    "for file in all_files:\n",
    "\tshutil.copy(file, GV_folder)\n",
    "\n",
    "# run GoodVibes\n",
    "os.chdir(GV_folder)\n",
    "subprocess.run(['python', '-m', 'goodvibes', '--xyz','--pes', '../pes.yaml','--graph','../pes.yaml','-c','1','--spc', 'DLPNO', '*.log',])\n",
    "os.chdir(w_dir_main)"
   ]
  }
 ],
 "metadata": {
  "kernelspec": {
   "display_name": "cheminf",
   "language": "python",
   "name": "python3"
  },
  "language_info": {
   "codemirror_mode": {
    "name": "ipython",
    "version": 3
   },
   "file_extension": ".py",
   "mimetype": "text/x-python",
   "name": "python",
   "nbconvert_exporter": "python",
   "pygments_lexer": "ipython3",
   "version": "3.9.12 (main, Apr  4 2022, 05:22:27) [MSC v.1916 64 bit (AMD64)]"
  },
  "vscode": {
   "interpreter": {
    "hash": "6fd74c72106078714e0fce224080d73d80ec6931ebd33b284a64c665ffc716e5"
   }
  }
 },
 "nbformat": 4,
 "nbformat_minor": 5
}

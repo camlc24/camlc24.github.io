{
 "cells": [
  {
   "cell_type": "markdown",
   "metadata": {},
   "source": [
    "# Analysis of QM files"
   ]
  },
  {
   "cell_type": "markdown",
   "metadata": {},
   "source": [
    "##### QCORR analysis including isomerization filter"
   ]
  },
  {
   "cell_type": "code",
   "execution_count": null,
   "metadata": {},
   "outputs": [],
   "source": [
    "# QCORR analysis of Gaussian 16 output files including isomerization check and generation of json files\n",
    "import os,glob\n",
    "from aqme.qcorr import qcorr\n",
    "\n",
    "files=glob.glob(os.getcwd()+'/QCORR_2/*.log')\n",
    "isom_inputs =os.getcwd()+'/QCORR_2'\n",
    "\n",
    "\n",
    "# run the QCORR analyzer, with:\n",
    "# 1) Names of the QM output files (files='*.log')\n",
    "# 2) Detect and fix calcs that converged during geometry optimization but didn't converge during frequency calcs (freq_conv='opt=(calcfc,maxstep=5)')\n",
    "# 3) Type of initial input files where the LOG files come from (isom_type='com')\n",
    "# 4) Folder with the initial input files (isom_inputs=w_dir_main)\n",
    "qcorr(files=files,freq_conv='opt=(calcfc,maxstep=5)',\n",
    "      isom_type='com',isom_inputs=isom_inputs)"
   ]
  }
 ],
 "metadata": {
  "kernelspec": {
   "display_name": "base",
   "language": "python",
   "name": "python3"
  },
  "language_info": {
   "codemirror_mode": {
    "name": "ipython",
    "version": 3
   },
   "file_extension": ".py",
   "mimetype": "text/x-python",
   "name": "python",
   "nbconvert_exporter": "python",
   "pygments_lexer": "ipython3",
   "version": "3.9.7"
  },
  "vscode": {
   "interpreter": {
    "hash": "6c100345108a7047ea96fae483cb64f49bdc23a8b225db90a5987a96959e820b"
   }
  }
 },
 "nbformat": 4,
 "nbformat_minor": 5
}

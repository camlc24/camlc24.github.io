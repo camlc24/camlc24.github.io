{
 "cells": [
  {
   "cell_type": "markdown",
   "metadata": {},
   "source": [
    "# Analysis of QM files"
   ]
  },
  {
   "cell_type": "markdown",
   "metadata": {},
   "source": [
    "##### Separated QCORR full check analysis of successful terminations"
   ]
  },
  {
   "cell_type": "code",
   "execution_count": null,
   "metadata": {},
   "outputs": [],
   "source": [
    "# ** full check of json files can be done separately using the function qcorr.full_check(). It only\n",
    "# requires a collection of json files and it analyzes whether the calculations were done homogeneously\n",
    "# (i.e. same level of theory, grid size, program and version, solvation model and empirical dispersion)\n",
    "\n",
    "import os,glob\n",
    "from aqme.qcorr import full_check\n",
    "\n",
    "files=glob.glob(os.getcwd()+'/QCORR_4/*.json')\n",
    "destination_fullcheck = os.getcwd()+'/QCORR_4'\n",
    "\n",
    "# run the full check analyzer, with:\n",
    "# 1) Destination of the dat file generated (destination_fullcheck=w_dir_main)\n",
    "# 2) names of the JSON files to check (files='*.json')\n",
    "full_check(destination_fullcheck=destination_fullcheck,files=files)"
   ]
  },
  {
   "cell_type": "code",
   "execution_count": null,
   "metadata": {},
   "outputs": [],
   "source": []
  }
 ],
 "metadata": {
  "kernelspec": {
   "display_name": "Python 3.9.12 ('cheminf')",
   "language": "python",
   "name": "python3"
  },
  "language_info": {
   "codemirror_mode": {
    "name": "ipython",
    "version": 3
   },
   "file_extension": ".py",
   "mimetype": "text/x-python",
   "name": "python",
   "nbconvert_exporter": "python",
   "pygments_lexer": "ipython3",
   "version": "3.9.12"
  },
  "vscode": {
   "interpreter": {
    "hash": "6fd74c72106078714e0fce224080d73d80ec6931ebd33b284a64c665ffc716e5"
   }
  }
 },
 "nbformat": 4,
 "nbformat_minor": 5
}

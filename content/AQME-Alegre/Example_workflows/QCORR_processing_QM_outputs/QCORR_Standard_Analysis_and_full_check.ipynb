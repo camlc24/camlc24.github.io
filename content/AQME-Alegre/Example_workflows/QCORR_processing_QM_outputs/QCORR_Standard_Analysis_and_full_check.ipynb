{
 "cells": [
  {
   "cell_type": "markdown",
   "metadata": {},
   "source": [
    "# Analysis of QM files"
   ]
  },
  {
   "cell_type": "markdown",
   "metadata": {},
   "source": [
    "##### Standard QCORR analysis of Gaussian output files and generation of input files to fix the issues of errored terminations"
   ]
  },
  {
   "cell_type": "code",
   "execution_count": null,
   "metadata": {},
   "outputs": [],
   "source": [
    "# standard QCORR analysis of Gaussian 16 output files and generation of json files\n",
    "import os\n",
    "from aqme.qcorr import qcorr\n",
    "\n",
    "files=os.getcwd()+'/QCORR_1/*.log'\n",
    "\n",
    "# run the QCORR analyzer, with:\n",
    "# 1) Names of the QM output files (files='*.log')\n",
    "# 2) Detect and fix calcs that converged during geometry optimization but didn't converge during frequency calcs (freq_conv='opt=(calcfc,maxstep=5)')\n",
    "qcorr(files=files,freq_conv='opt=(calcfc,maxstep=5)')\n"
   ]
  }
 ],
 "metadata": {
  "kernelspec": {
   "display_name": "Python [conda env:svss-bm]",
   "language": "python",
   "name": "conda-env-svss-bm-py"
  },
  "language_info": {
   "codemirror_mode": {
    "name": "ipython",
    "version": 3
   },
   "file_extension": ".py",
   "mimetype": "text/x-python",
   "name": "python",
   "nbconvert_exporter": "python",
   "pygments_lexer": "ipython3",
   "version": "3.7.4"
  }
 },
 "nbformat": 4,
 "nbformat_minor": 5
}

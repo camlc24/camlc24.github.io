{
 "cells": [
  {
   "cell_type": "markdown",
   "metadata": {},
   "source": [
    "# Preparation of QM input files"
   ]
  },
  {
   "cell_type": "markdown",
   "metadata": {},
   "source": [
    "##### QPREP input file preparation for Gaussian with predefined charge and multiplicity"
   ]
  },
  {
   "cell_type": "code",
   "execution_count": null,
   "metadata": {},
   "outputs": [],
   "source": [
    "# calculate reduction potential from sdf files\n",
    "import os\n",
    "from aqme.qprep import qprep\n",
    "\n",
    "# folder with input sdf files and their names (*.sdf to include all the sdf files in the folder)\n",
    "sdf_files = os.getcwd()+'/sdf_files/*.sdf'\n",
    "\n",
    "\n",
    "# run the QPREP module, with:\n",
    "# 1) Names of the files to get atoms and coordinates (files=sdf_files)\n",
    "# 2) Set charge for the input files (charge=-1)\n",
    "# 3) Set multiplicity for the input files (mult=2)\n",
    "# 4) Keyword line(s) used in the inputs (qm_input='wb97xd/def2qzvpp scrf=(smd,solvent=acetonitrile)')\n",
    "# 5) Suffix to add to the file names (suffix='wb97xd-reduced')\n",
    "# 6) Program for the input file format (program='gaussian')\n",
    "# 7) Memory to use in the calculations (mem='16GB')\n",
    "# 8) Processors to use in the calcs (nprocs=8)\n",
    "print(f'o  Creating input files with suffix \"wb97xd-reduced\" \\n')\n",
    "qprep(files=sdf_files, charge=-1, mult=2,\n",
    "      qm_input='wb97xd/def2qzvpp scrf=(smd,solvent=acetonitrile)', suffix='wb97xd-reduced',\n",
    "      program='gaussian', mem='16GB', nprocs=8)"
   ]
  },
  {
   "cell_type": "code",
   "execution_count": null,
   "metadata": {},
   "outputs": [],
   "source": []
  }
 ],
 "metadata": {
  "kernelspec": {
   "display_name": "Python 3.9.7 ('base')",
   "language": "python",
   "name": "python3"
  },
  "language_info": {
   "codemirror_mode": {
    "name": "ipython",
    "version": 3
   },
   "file_extension": ".py",
   "mimetype": "text/x-python",
   "name": "python",
   "nbconvert_exporter": "python",
   "pygments_lexer": "ipython3",
   "version": "3.9.7"
  },
  "vscode": {
   "interpreter": {
    "hash": "6c100345108a7047ea96fae483cb64f49bdc23a8b225db90a5987a96959e820b"
   }
  }
 },
 "nbformat": 4,
 "nbformat_minor": 5
}

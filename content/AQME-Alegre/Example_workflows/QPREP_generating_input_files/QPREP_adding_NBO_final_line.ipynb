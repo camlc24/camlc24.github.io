{
 "cells": [
  {
   "cell_type": "markdown",
   "metadata": {},
   "source": [
    "# Preparation of QM input files"
   ]
  },
  {
   "cell_type": "markdown",
   "metadata": {},
   "source": [
    "##### QPREP input file preparation for Gaussian jobs with NBO final line"
   ]
  },
  {
   "cell_type": "code",
   "execution_count": null,
   "metadata": {},
   "outputs": [],
   "source": [
    "# do an NBO calc with a final line after coords (requiring Wyberg bond orders)\n",
    "\n",
    "import os\n",
    "from aqme.qprep import qprep\n",
    "\n",
    "# folder with input json files and their names (*.json to include all the json files in the folder)\n",
    "json_files = os.getcwd()+'/json_files/*.json'\n",
    "\n",
    "# run the QPREP module, with:\n",
    "# 1) Names of the files to get atoms and coordinates (files=json_files)\n",
    "# 2) Final line after the coordinates section (qm_end='$nbo bndidx $end')\n",
    "# 3) Keyword line(s) used in the inputs (qm_input='wb97xd/def2qzvpp scrf=(smd,solvent=acetonitrile)')\n",
    "# 4) Suffix to add to the file names (suffix='wb97xd-nbo')\n",
    "# 5) Program for the input file format (program='gaussian')\n",
    "# 6) Memory to use in the calculations (mem='16GB')\n",
    "# 7) Processors to use in the calcs (nprocs=8)\n",
    "print(f'o  Creating input files with suffix \"wb97xd-nbo\" \\n')\n",
    "qprep(files=json_files, qm_end='$nbo bndidx $end',\n",
    "            qm_input='pop=(nbo6read,savenbos) wb97xd/def2svp', suffix='wb97xd-nbo',\n",
    "            program='gaussian', mem='16GB', nprocs=8)"
   ]
  },
  {
   "cell_type": "code",
   "execution_count": null,
   "metadata": {},
   "outputs": [],
   "source": []
  }
 ],
 "metadata": {
  "kernelspec": {
   "display_name": "Python [conda env:svss-bm]",
   "language": "python",
   "name": "conda-env-svss-bm-py"
  },
  "language_info": {
   "codemirror_mode": {
    "name": "ipython",
    "version": 3
   },
   "file_extension": ".py",
   "mimetype": "text/x-python",
   "name": "python",
   "nbconvert_exporter": "python",
   "pygments_lexer": "ipython3",
   "version": "3.7.4"
  }
 },
 "nbformat": 4,
 "nbformat_minor": 5
}

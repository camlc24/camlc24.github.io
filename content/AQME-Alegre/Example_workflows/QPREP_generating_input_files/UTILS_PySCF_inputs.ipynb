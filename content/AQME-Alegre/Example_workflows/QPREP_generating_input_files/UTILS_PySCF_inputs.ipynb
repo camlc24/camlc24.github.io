{
 "cells": [
  {
   "cell_type": "markdown",
   "metadata": {},
   "source": [
    "# Preparation of QM input files"
   ]
  },
  {
   "cell_type": "code",
   "execution_count": 1,
   "metadata": {},
   "outputs": [],
   "source": [
    "##### Input preparation of PySCF jobs from json files"
   ]
  },
  {
   "cell_type": "code",
   "execution_count": null,
   "metadata": {},
   "outputs": [],
   "source": [
    "# run a PySCF single-point calculation with the DeepMind 21 (DM21) functional using the generated json files\n",
    "\n",
    "import os\n",
    "from aqme.utils import cclib_atoms_coords\n",
    "import json\n",
    "import glob\n",
    "\n",
    "# read json files\n",
    "initial_dir = os.getcwd()\n",
    "w_dir_main = os.getcwd()+'/json_files'\n",
    "os.chdir(w_dir_main)\n",
    "json_files = glob.glob('*.json')\n",
    "\n",
    "# run the PySCF calculations\n",
    "for file in json_files:\n",
    "    with open(file) as json_file:\n",
    "        cclib_data = json.load(json_file)\n",
    "\n",
    "    atom_types,cartesians = cclib_atoms_coords(cclib_data)\n",
    "\n",
    "    coord_input = ''\n",
    "    for i,atom in enumerate(atom_types):\n",
    "        if i != 0:\n",
    "            coord_input += ' '\n",
    "        coord_input += atom+' '\n",
    "            \n",
    "        for j,cart in enumerate(cartesians[i]):\n",
    "            coord_input += str(cart)\n",
    "            if j != 2:\n",
    "                coord_input += ' '\n",
    "            else:\n",
    "                if i != len(atom_types)-1:\n",
    "                    coord_input += ';'\n",
    "    \n",
    "    charge = cclib_data['properties']['charge']\n",
    "    mult = cclib_data['properties']['multiplicity']\n",
    "    spin = mult-1\n",
    "    basis = 'ccpvdz'\n",
    "\n",
    "    # creates mol object for the calculations\n",
    "    mol = gto.M(atom=coord_input, basis=basis, charge=charge, spin=spin)\n",
    "    mol.output = f'./{file.split(\".\")[0]}.log'\n",
    "    mol.verbose = 3\n",
    "    mol.build()\n",
    "\n",
    "    # runs the PySCF calculation\n",
    "    if spin == 0:\n",
    "        energy = mol.RKS().run(chkfile = 'expt0.chk', _numint = dm21.NeuralNumInt(dm21.Functional.DM21),\n",
    "                            conv_tol = 1E-6, conv_tol_grad = 1E-3)\n",
    "    else:\n",
    "        energy = mol.UKS().run(chkfile = 'expt0.chk', _numint = dm21.NeuralNumInt(dm21.Functional.DM21),\n",
    "                            conv_tol = 1E-6, conv_tol_grad = 1E-3) \n",
    "    \n",
    "    # print results in the LOG file specified in mol.output                       \n",
    "    energy.dump_scf_summary()\n",
    "    energy.analyze()\n",
    "    energy.spin_square()\n",
    "\n",
    "os.chdir(initial_dir)"
   ]
  }
 ],
 "metadata": {
  "kernelspec": {
   "display_name": "Python [conda env:svss-bm]",
   "language": "python",
   "name": "conda-env-svss-bm-py"
  },
  "language_info": {
   "codemirror_mode": {
    "name": "ipython",
    "version": 3
   },
   "file_extension": ".py",
   "mimetype": "text/x-python",
   "name": "python",
   "nbconvert_exporter": "python",
   "pygments_lexer": "ipython3",
   "version": "3.7.4"
  }
 },
 "nbformat": 4,
 "nbformat_minor": 5
}

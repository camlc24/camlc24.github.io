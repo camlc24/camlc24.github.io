{
 "cells": [
  {
   "cell_type": "markdown",
   "id": "d733fcd5-fafc-4797-be46-fc9c5f23d9ab",
   "metadata": {},
   "source": [
    "#### Molecular representations of multiple conformers"
   ]
  },
  {
   "cell_type": "markdown",
   "id": "72a4b25e",
   "metadata": {},
   "source": [
    "###### Step 1 : Imports"
   ]
  },
  {
   "cell_type": "code",
   "execution_count": null,
   "id": "15c32915-2f22-4915-a852-1c7bcf635495",
   "metadata": {},
   "outputs": [],
   "source": [
    "import glob\n",
    "from aqme.vismol import vismol"
   ]
  },
  {
   "cell_type": "markdown",
   "id": "e7696ea7-6fae-4802-9a2a-5e32647bcc0c",
   "metadata": {},
   "source": [
    "###### Step 2 : VISMOL represents conformers from different input types"
   ]
  },
  {
   "cell_type": "code",
   "execution_count": null,
   "id": "4285cc7c-956f-4f6f-a92d-66d17557c824",
   "metadata": {},
   "outputs": [],
   "source": [
    "files = glob.glob('*.sdf')\n",
    "print(files)\n",
    "vismol(files=files)"
   ]
  },
  {
   "cell_type": "code",
   "execution_count": null,
   "id": "7dd87f1a-9cd0-47ef-ae24-aebaeb2e9197",
   "metadata": {},
   "outputs": [],
   "source": [
    "files =  glob.glob('*.xyz')\n",
    "print(files)\n",
    "vismol(files=files)"
   ]
  },
  {
   "cell_type": "code",
   "execution_count": null,
   "id": "6aa502c6-a0e2-48a7-9c16-02b4322d003b",
   "metadata": {},
   "outputs": [],
   "source": [
    "files = glob.glob('*.pdb')\n",
    "print(files)\n",
    "vismol(files=files)"
   ]
  }
 ],
 "metadata": {
  "kernelspec": {
   "display_name": "Python 3.9.12 ('cheminf')",
   "language": "python",
   "name": "python3"
  },
  "language_info": {
   "codemirror_mode": {
    "name": "ipython",
    "version": 3
   },
   "file_extension": ".py",
   "mimetype": "text/x-python",
   "name": "python",
   "nbconvert_exporter": "python",
   "pygments_lexer": "ipython3",
   "version": "3.9.12"
  },
  "vscode": {
   "interpreter": {
    "hash": "6fd74c72106078714e0fce224080d73d80ec6931ebd33b284a64c665ffc716e5"
   }
  }
 },
 "nbformat": 4,
 "nbformat_minor": 5
}
